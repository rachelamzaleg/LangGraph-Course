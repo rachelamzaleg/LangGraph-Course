{
 "cells": [
  {
   "cell_type": "markdown",
   "id": "85c051d6",
   "metadata": {},
   "source": [
    "## TASK : Build RAG how retrives data from pdf and answer user question "
   ]
  },
  {
   "cell_type": "code",
   "execution_count": null,
   "id": "19978f1d",
   "metadata": {},
   "outputs": [],
   "source": [
    "%pip install -qU \"langchain[google-genai]\" \n",
    "%pip install -qU langgraph langchain-core langchain-community langchain-text-splitters langchain-chroma langchain-google-genai beautifulsoup4\n",
    "%pip install pypdf\n"
   ]
  },
  {
   "cell_type": "code",
   "execution_count": null,
   "id": "ef672bd9",
   "metadata": {},
   "outputs": [],
   "source": [
    "from dotenv import load_dotenv\n",
    "from langchain_google_genai import GoogleGenerativeAIEmbeddings ,ChatGoogleGenerativeAI\n",
    "from langchain_community.vectorstores import Chroma\n",
    "\n",
    "\n",
    "from langchain_community.document_loaders import PyPDFLoader\n",
    "from langchain.text_splitter import RecursiveCharacterTextSplitter\n",
    "\n",
    "#  Define LangGraph nodes and state\n",
    "from langgraph.graph import StateGraph, END,START\n",
    "from typing import TypedDict, Annotated, Sequence\n",
    "\n",
    "\n",
    "from langchain_core.messages import BaseMessage,HumanMessage\n",
    "from langgraph.graph.message import add_messages\n",
    "\n",
    "from langchain_core.prompts import ChatPromptTemplate, MessagesPlaceholder\n",
    "\n",
    "\n",
    "load_dotenv()\n",
    "\n"
   ]
  },
  {
   "cell_type": "markdown",
   "id": "290dcf6b",
   "metadata": {},
   "source": [
    "## Build llm, embedding and vectore store objects"
   ]
  },
  {
   "cell_type": "code",
   "execution_count": null,
   "id": "aea7991f",
   "metadata": {},
   "outputs": [],
   "source": [
    "\n",
    "gemini_model = ChatGoogleGenerativeAI(model=\"gemini-2.5-flash\")\n",
    "embeddings = GoogleGenerativeAIEmbeddings(model=\"models/gemini-embedding-001\")"
   ]
  },
  {
   "cell_type": "markdown",
   "id": "835673ff",
   "metadata": {},
   "source": [
    "## Load pdf and setup Chroma as vectore store"
   ]
  },
  {
   "cell_type": "code",
   "execution_count": 152,
   "id": "5b0ddcf6",
   "metadata": {},
   "outputs": [],
   "source": [
    "loader = PyPDFLoader(\"C:\\\\Users\\\\user\\\\LangGraph-Course\\\\Agents\\\\Stock_Market_Performance_2024.pdf\")\n",
    "pdf_doc = loader.load()\n",
    "text_splitter = RecursiveCharacterTextSplitter(chunk_size=1000, chunk_overlap=200)\n",
    "pdf_splited_docs = text_splitter.split_documents(pdf_doc)\n",
    "\n",
    "chroma_db = Chroma.from_documents(\n",
    "    documents=pdf_splited_docs, \n",
    "    embedding=embeddings, \n",
    "    persist_directory=\"data2\", \n",
    "    collection_name=\"lc_chroma_demo2\"\n",
    ")\n",
    "\n"
   ]
  },
  {
   "cell_type": "markdown",
   "id": "221009f7",
   "metadata": {},
   "source": [
    "## define the LangGraph states"
   ]
  },
  {
   "cell_type": "code",
   "execution_count": 153,
   "id": "4649584b",
   "metadata": {},
   "outputs": [],
   "source": [
    "class GraphState(TypedDict):\n",
    "    question: str\n",
    "    messages: Annotated[Sequence[BaseMessage], add_messages]\n",
    "    answer: str\n",
    "    docs: Sequence[str]\n",
    "    aggregated_text: str"
   ]
  },
  {
   "cell_type": "markdown",
   "id": "879fc3dd",
   "metadata": {},
   "source": [
    "## Define the prompt"
   ]
  },
  {
   "cell_type": "code",
   "execution_count": 154,
   "id": "1128b18b",
   "metadata": {},
   "outputs": [],
   "source": [
    "prompt_template = ChatPromptTemplate.from_messages(\n",
    "    [\n",
    "        (\n",
    "            \"system\",\n",
    "            \"You are a helpful assistant. Answer {question} to the best of your ability according to {aggregated_text}.\",\n",
    "        ),\n",
    "        MessagesPlaceholder(variable_name=\"messages\"),\n",
    "    ]\n",
    ")"
   ]
  },
  {
   "cell_type": "markdown",
   "id": "b0602521",
   "metadata": {},
   "source": [
    "## Define Retriver node "
   ]
  },
  {
   "cell_type": "code",
   "execution_count": 155,
   "id": "a5d5f2bd",
   "metadata": {},
   "outputs": [],
   "source": [
    "def retrieve_node(state: GraphState) -> GraphState:\n",
    "    question = state[\"question\"]\n",
    "    retriever = chroma_db.as_retriever()\n",
    "    docs = retriever.invoke(question)\n",
    "    return {\"docs\": [doc.page_content for doc in docs]}\n",
    "\n"
   ]
  },
  {
   "cell_type": "markdown",
   "id": "59259302",
   "metadata": {},
   "source": [
    "## define aggregate doc node"
   ]
  },
  {
   "cell_type": "code",
   "execution_count": 156,
   "id": "621344ae",
   "metadata": {},
   "outputs": [],
   "source": [
    "def aggregate_docs_node(state: GraphState) -> GraphState:\n",
    "    \"\"\"\n",
    "    Aggregates retrieved documents into a single text block for the LLM.\n",
    "    \"\"\"\n",
    "    docs = state.get(\"docs\", [])\n",
    "    print(f'Retrieved {len(docs)} documents for aggregation.')\n",
    "    # Join all chunks into one string with separators\n",
    "    aggregated_text = \"\\n\\n\".join(docs)\n",
    "    \n",
    "    # Return as a new state for the next node\n",
    "    return {\"aggregated_text\": aggregated_text}"
   ]
  },
  {
   "cell_type": "markdown",
   "id": "17ad87fe",
   "metadata": {},
   "source": [
    "## Define LLM node"
   ]
  },
  {
   "cell_type": "code",
   "execution_count": 157,
   "id": "56c3ed62",
   "metadata": {},
   "outputs": [],
   "source": [
    "def llm_node(state: GraphState) -> GraphState:\n",
    "  print(f'*****state before llm_node: {state}')\n",
    "  prompt = prompt_template.invoke(state)\n",
    "  print(f'Me : {prompt}')\n",
    "  response = gemini_model.invoke(prompt)\n",
    "  return {\"answer\": response, \"messages\": state[\"messages\"]}\n",
    "\n"
   ]
  },
  {
   "cell_type": "markdown",
   "id": "66058aaa",
   "metadata": {},
   "source": [
    "## Build the workflow graph"
   ]
  },
  {
   "cell_type": "code",
   "execution_count": 158,
   "id": "aaecce27",
   "metadata": {},
   "outputs": [
    {
     "data": {
      "image/png": "[encoded data removed]",
      "text/plain": [
       "<langgraph.graph.state.CompiledStateGraph object at 0x00000156319E5C70>"
      ]
     },
     "execution_count": 158,
     "metadata": {},
     "output_type": "execute_result"
    }
   ],
   "source": [
    "\n",
    "workflow = StateGraph(GraphState)\n",
    "workflow.add_node(\"retrieve\", retrieve_node)\n",
    "workflow.add_node(\"llm_process\", llm_node)\n",
    "workflow.add_node(\"aggregate_docs\", aggregate_docs_node)\n",
    "\n",
    "workflow.add_edge(START,\"retrieve\")\n",
    "workflow.add_edge(\"retrieve\", \"aggregate_docs\")\n",
    "workflow.add_edge(\"aggregate_docs\", \"llm_process\")\n",
    "workflow.add_edge(\"llm_process\", END)\n",
    "\n",
    "app = workflow.compile()\n",
    "app\n",
    "\n"
   ]
  },
  {
   "cell_type": "markdown",
   "id": "a93bdf77",
   "metadata": {},
   "source": [
    "# 5. Query the system\n"
   ]
  },
  {
   "cell_type": "code",
   "execution_count": 161,
   "id": "c91f0178",
   "metadata": {},
   "outputs": [
    {
     "name": "stdout",
     "output_type": "stream",
     "text": [
      "Retrieved 4 documents for aggregation.\n",
      "*****state before llm_node: {'question': 'which year this article is checking the performance of stock market?', 'messages': [HumanMessage(content='which year this article is checking the performance of stock market?', additional_kwargs={}, response_metadata={}, id='1e591057-c6f6-458a-be30-7ac87dbf04b5')], 'docs': ['Stock Market Performance in 2024\\nU.S. Market Overview\\nThe year 2024 was a remarkably strong one for equities, with the U.S. stock market extending the\\nrobust gains seen in the prior year. The benchmark S&P 500 index delivered roughly a 25% total\\nreturn for 2024 (around +23% in price terms)\\n. This marked the second consecutive year of over 20% returns for the S&P 500 - a feat not\\nobserved since the late 1990s\\n. The tech-heavy Nasdaq Composite outpaced the broader market, jumping nearly 29% for the year\\n. In contrast, smaller-cap stocks had more modest performance: the S&P 500 Equal-Weight index\\nand the Russell 2000 (small-cap benchmark) each rose about 10-11% in 2024\\n. The disparity underscored that 2024\\'s rally was not evenly distributed across the market. A key\\ntheme was the dominance of mega-cap technology stocks. A group of seven powerhouse\\ncompanies often dubbed the \"Magnificent 7\" - Apple, Microsoft, Alphabet (Google), Amazon, Meta', \"stretched: by the end of 2024, the stock was trading at well over 100 times its trailing earnings (a\\nrough estimate, as the company's EPS for the year was around $2) - an extremely high multiple\\nmacrotrends.net\\n. This disconnect between Tesla's soaring share price and its shrinking earnings was noted by\\nanalysts as a risk factor. Nonetheless, 2024 demonstrated the market's willingness to bet on Tesla's\\nlong-term growth story (in areas like autonomous driving, energy storage, and global EV adoption),\\neven if in the short term the financial results did not justify the exuberant stock price. Tesla's 63%\\ngain was a significant contributor to the S&P 500's performance and exemplified the late-year\\nrisk-on fervor that characterized the market's finish to 2024.\\nHigh-Growth Tech Startups and Noteworthy Stock Movers\\nBeyond the established giants, 2024 also featured eye-popping gains in a number of high-growth\", 'rich multiples, pricing in a lot of optimism for future growth. The exuberance of 2024 did create a\\n\"frothy\" sentiment environment, as analysts at Schwab noted\\n, meaning investors had become very bullish and perhaps complacent. This backdrop raised some\\nconcern that volatility could return if the anticipated growth failed to materialize or if macroeconomic\\nfactors turned unfriendly. As 2025 began, market participants were balancing the excitement about\\ntechnology-driven growth against the reality of elevated price levels. The strong 2024 stock\\nperformance undoubtedly rewarded investors, but it also set a high bar for future earnings and', 'theme was the dominance of mega-cap technology stocks. A group of seven powerhouse\\ncompanies often dubbed the \"Magnificent 7\" - Apple, Microsoft, Alphabet (Google), Amazon, Meta\\n(Facebook), Nvidia, and Tesla - collectively surged by roughly 64-67% on average in 2024\\n. These few firms contributed disproportionately to the S&P 500\\'s gains. In fact, they accounted for\\nover half of the index\\'s return for the year (about 54% of S&P 500 performance)\\n. By year\\'s end, many of these leaders had reached record-high share prices amid investor\\nenthusiasm for transformative technologies like artificial intelligence (AI). Meanwhile, more\\ntraditional and value-oriented sectors lagged behind, and many diversified portfolios trailed the\\nS&P\\'s 25% gain as a result\\n. Overall, 2024\\'s market climate was one of bullish sentiment driven by technology and growth\\nstocks, albeit with narrow market breadth focused on the largest companies.\\nMajor Tech Stock Performances\\nApple Inc. (AAPL) - 2024 Performance'], 'aggregated_text': 'Stock Market Performance in 2024\\nU.S. Market Overview\\nThe year 2024 was a remarkably strong one for equities, with the U.S. stock market extending the\\nrobust gains seen in the prior year. The benchmark S&P 500 index delivered roughly a 25% total\\nreturn for 2024 (around +23% in price terms)\\n. This marked the second consecutive year of over 20% returns for the S&P 500 - a feat not\\nobserved since the late 1990s\\n. The tech-heavy Nasdaq Composite outpaced the broader market, jumping nearly 29% for the year\\n. In contrast, smaller-cap stocks had more modest performance: the S&P 500 Equal-Weight index\\nand the Russell 2000 (small-cap benchmark) each rose about 10-11% in 2024\\n. The disparity underscored that 2024\\'s rally was not evenly distributed across the market. A key\\ntheme was the dominance of mega-cap technology stocks. A group of seven powerhouse\\ncompanies often dubbed the \"Magnificent 7\" - Apple, Microsoft, Alphabet (Google), Amazon, Meta\\n\\nstretched: by the end of 2024, the stock was trading at well over 100 times its trailing earnings (a\\nrough estimate, as the company\\'s EPS for the year was around $2) - an extremely high multiple\\nmacrotrends.net\\n. This disconnect between Tesla\\'s soaring share price and its shrinking earnings was noted by\\nanalysts as a risk factor. Nonetheless, 2024 demonstrated the market\\'s willingness to bet on Tesla\\'s\\nlong-term growth story (in areas like autonomous driving, energy storage, and global EV adoption),\\neven if in the short term the financial results did not justify the exuberant stock price. Tesla\\'s 63%\\ngain was a significant contributor to the S&P 500\\'s performance and exemplified the late-year\\nrisk-on fervor that characterized the market\\'s finish to 2024.\\nHigh-Growth Tech Startups and Noteworthy Stock Movers\\nBeyond the established giants, 2024 also featured eye-popping gains in a number of high-growth\\n\\nrich multiples, pricing in a lot of optimism for future growth. The exuberance of 2024 did create a\\n\"frothy\" sentiment environment, as analysts at Schwab noted\\n, meaning investors had become very bullish and perhaps complacent. This backdrop raised some\\nconcern that volatility could return if the anticipated growth failed to materialize or if macroeconomic\\nfactors turned unfriendly. As 2025 began, market participants were balancing the excitement about\\ntechnology-driven growth against the reality of elevated price levels. The strong 2024 stock\\nperformance undoubtedly rewarded investors, but it also set a high bar for future earnings and\\n\\ntheme was the dominance of mega-cap technology stocks. A group of seven powerhouse\\ncompanies often dubbed the \"Magnificent 7\" - Apple, Microsoft, Alphabet (Google), Amazon, Meta\\n(Facebook), Nvidia, and Tesla - collectively surged by roughly 64-67% on average in 2024\\n. These few firms contributed disproportionately to the S&P 500\\'s gains. In fact, they accounted for\\nover half of the index\\'s return for the year (about 54% of S&P 500 performance)\\n. By year\\'s end, many of these leaders had reached record-high share prices amid investor\\nenthusiasm for transformative technologies like artificial intelligence (AI). Meanwhile, more\\ntraditional and value-oriented sectors lagged behind, and many diversified portfolios trailed the\\nS&P\\'s 25% gain as a result\\n. Overall, 2024\\'s market climate was one of bullish sentiment driven by technology and growth\\nstocks, albeit with narrow market breadth focused on the largest companies.\\nMajor Tech Stock Performances\\nApple Inc. (AAPL) - 2024 Performance'}\n",
      "Me : messages=[SystemMessage(content='You are a helpful assistant. Answer which year this article is checking the performance of stock market? to the best of your ability according to Stock Market Performance in 2024\\nU.S. Market Overview\\nThe year 2024 was a remarkably strong one for equities, with the U.S. stock market extending the\\nrobust gains seen in the prior year. The benchmark S&P 500 index delivered roughly a 25% total\\nreturn for 2024 (around +23% in price terms)\\n. This marked the second consecutive year of over 20% returns for the S&P 500 - a feat not\\nobserved since the late 1990s\\n. The tech-heavy Nasdaq Composite outpaced the broader market, jumping nearly 29% for the year\\n. In contrast, smaller-cap stocks had more modest performance: the S&P 500 Equal-Weight index\\nand the Russell 2000 (small-cap benchmark) each rose about 10-11% in 2024\\n. The disparity underscored that 2024\\'s rally was not evenly distributed across the market. A key\\ntheme was the dominance of mega-cap technology stocks. A group of seven powerhouse\\ncompanies often dubbed the \"Magnificent 7\" - Apple, Microsoft, Alphabet (Google), Amazon, Meta\\n\\nstretched: by the end of 2024, the stock was trading at well over 100 times its trailing earnings (a\\nrough estimate, as the company\\'s EPS for the year was around $2) - an extremely high multiple\\nmacrotrends.net\\n. This disconnect between Tesla\\'s soaring share price and its shrinking earnings was noted by\\nanalysts as a risk factor. Nonetheless, 2024 demonstrated the market\\'s willingness to bet on Tesla\\'s\\nlong-term growth story (in areas like autonomous driving, energy storage, and global EV adoption),\\neven if in the short term the financial results did not justify the exuberant stock price. Tesla\\'s 63%\\ngain was a significant contributor to the S&P 500\\'s performance and exemplified the late-year\\nrisk-on fervor that characterized the market\\'s finish to 2024.\\nHigh-Growth Tech Startups and Noteworthy Stock Movers\\nBeyond the established giants, 2024 also featured eye-popping gains in a number of high-growth\\n\\nrich multiples, pricing in a lot of optimism for future growth. The exuberance of 2024 did create a\\n\"frothy\" sentiment environment, as analysts at Schwab noted\\n, meaning investors had become very bullish and perhaps complacent. This backdrop raised some\\nconcern that volatility could return if the anticipated growth failed to materialize or if macroeconomic\\nfactors turned unfriendly. As 2025 began, market participants were balancing the excitement about\\ntechnology-driven growth against the reality of elevated price levels. The strong 2024 stock\\nperformance undoubtedly rewarded investors, but it also set a high bar for future earnings and\\n\\ntheme was the dominance of mega-cap technology stocks. A group of seven powerhouse\\ncompanies often dubbed the \"Magnificent 7\" - Apple, Microsoft, Alphabet (Google), Amazon, Meta\\n(Facebook), Nvidia, and Tesla - collectively surged by roughly 64-67% on average in 2024\\n. These few firms contributed disproportionately to the S&P 500\\'s gains. In fact, they accounted for\\nover half of the index\\'s return for the year (about 54% of S&P 500 performance)\\n. By year\\'s end, many of these leaders had reached record-high share prices amid investor\\nenthusiasm for transformative technologies like artificial intelligence (AI). Meanwhile, more\\ntraditional and value-oriented sectors lagged behind, and many diversified portfolios trailed the\\nS&P\\'s 25% gain as a result\\n. Overall, 2024\\'s market climate was one of bullish sentiment driven by technology and growth\\nstocks, albeit with narrow market breadth focused on the largest companies.\\nMajor Tech Stock Performances\\nApple Inc. (AAPL) - 2024 Performance.', additional_kwargs={}, response_metadata={}), HumanMessage(content='which year this article is checking the performance of stock market?', additional_kwargs={}, response_metadata={}, id='1e591057-c6f6-458a-be30-7ac87dbf04b5')]\n",
      "content='This article is checking the performance of the stock market for the year **2024**.' additional_kwargs={} response_metadata={'prompt_feedback': {'block_reason': 0, 'safety_ratings': []}, 'finish_reason': 'STOP', 'model_name': 'gemini-2.5-flash', 'safety_ratings': []} id='run--c445051f-2238-4710-ad6f-384a74799643-0' usage_metadata={'input_tokens': 914, 'output_tokens': 350, 'total_tokens': 1264, 'input_token_details': {'cache_read': 0}, 'output_token_details': {'reasoning': 331}}\n"
     ]
    }
   ],
   "source": [
    "query= \"which year this article is checking the performance of stock market?\"\n",
    "result = app.invoke({\"messages\": [HumanMessage(content=query)], \"question\": query})\n",
    "print(result[\"answer\"])"
   ]
  },
  {
   "cell_type": "markdown",
   "id": "2dd13f7b",
   "metadata": {},
   "source": []
  }
 ],
 "metadata": {
  "kernelspec": {
   "display_name": ".venv",
   "language": "python",
   "name": "python3"
  },
  "language_info": {
   "codemirror_mode": {
    "name": "ipython",
    "version": 3
   },
   "file_extension": ".py",
   "mimetype": "text/x-python",
   "name": "python",
   "nbconvert_exporter": "python",
   "pygments_lexer": "ipython3",
   "version": "3.12.10"
  }
 },
 "nbformat": 4,
 "nbformat_minor": 5
}
