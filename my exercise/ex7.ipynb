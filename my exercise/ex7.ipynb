{
 "cells": [
  {
   "cell_type": "markdown",
   "id": "585c0cdf",
   "metadata": {},
   "source": [
    "## TASK : Build an agent with memory - user query->groq->answer"
   ]
  },
  {
   "cell_type": "code",
   "execution_count": 14,
   "id": "009601c3",
   "metadata": {},
   "outputs": [
    {
     "data": {
      "text/plain": [
       "True"
      ]
     },
     "execution_count": 14,
     "metadata": {},
     "output_type": "execute_result"
    }
   ],
   "source": [
    "from typing import TypedDict, List\n",
    "from langgraph.graph import  StateGraph, START,END,MessagesState\n",
    "from langchain_groq import ChatGroq\n",
    "from langchain_core.messages import HumanMessage\n",
    "from langgraph.checkpoint.memory import MemorySaver\n",
    "import os\n",
    "from dotenv import load_dotenv\n",
    "\n",
    "load_dotenv()\n",
    "\n"
   ]
  },
  {
   "cell_type": "markdown",
   "id": "834832ca",
   "metadata": {},
   "source": [
    "## define the llm"
   ]
  },
  {
   "cell_type": "code",
   "execution_count": 15,
   "id": "6ca561ea",
   "metadata": {},
   "outputs": [],
   "source": [
    "groq_model = ChatGroq(\n",
    "    model=\"llama-3.1-8b-instant\",\n",
    "    temperature=0.2,\n",
    "    api_key=os.getenv(\"GROQ_API_KEY\")\n",
    ")"
   ]
  },
  {
   "cell_type": "markdown",
   "id": "f4075498",
   "metadata": {},
   "source": [
    "## build the node function"
   ]
  },
  {
   "cell_type": "code",
   "execution_count": 20,
   "id": "46969a0f",
   "metadata": {},
   "outputs": [],
   "source": [
    "def ask_groq(state:MessagesState)->MessagesState:\n",
    "  response = groq_model.invoke(state[\"messages\"])\n",
    "  print(f'Me : {state[\"messages\"][-1]}')\n",
    "  return {\"messages\": response}\n"
   ]
  },
  {
   "cell_type": "markdown",
   "id": "da8f340a",
   "metadata": {},
   "source": [
    "## Build the graph"
   ]
  },
  {
   "cell_type": "code",
   "execution_count": 21,
   "id": "fe322a9f",
   "metadata": {},
   "outputs": [
    {
     "data": {
      "image/png": "[encoded data removed]",
      "text/plain": [
       "<langgraph.graph.state.CompiledStateGraph object at 0x000001F4BF99A8A0>"
      ]
     },
     "execution_count": 21,
     "metadata": {},
     "output_type": "execute_result"
    }
   ],
   "source": [
    "my_groq = StateGraph(MessagesState)\n",
    "my_groq.add_node(\"ask_groq\", ask_groq)\n",
    "my_groq.add_edge(START, \"ask_groq\")\n",
    "my_groq.add_edge(\"ask_groq\", END)\n",
    "\n",
    "# Add memory\n",
    "memory = MemorySaver()\n",
    "app = my_groq.compile(checkpointer=memory) \n",
    "\n",
    "app\n"
   ]
  },
  {
   "cell_type": "markdown",
   "id": "e23b7c1c",
   "metadata": {},
   "source": [
    "## invoke the graph"
   ]
  },
  {
   "cell_type": "code",
   "execution_count": 22,
   "id": "ef65323d",
   "metadata": {},
   "outputs": [
    {
     "name": "stdout",
     "output_type": "stream",
     "text": [
      "Me : content='hello' additional_kwargs={} response_metadata={} id='a2fd78d3-97c1-4d76-abdb-edf4ecc3d882'\n",
      "==================================\u001b[1m Ai Message \u001b[0m==================================\n",
      "\n",
      "Hello. How can I assist you today?\n",
      "{None}\n",
      "Me : content='Rachel from Israel' additional_kwargs={} response_metadata={} id='45dd1182-a5a0-43ba-961e-fd380baace7f'\n",
      "==================================\u001b[1m Ai Message \u001b[0m==================================\n",
      "\n",
      "Shalom! Nice to meet you, Rachel from Israel. How are you today?\n",
      "{None}\n",
      "Me : content='nice to see , u know Hebrew !' additional_kwargs={} response_metadata={} id='09b526a9-9a76-46c4-bdfc-d977eb5c722c'\n",
      "==================================\u001b[1m Ai Message \u001b[0m==================================\n",
      "\n",
      "I'm glad I could surprise you with a bit of Hebrew. I've been trained on many languages, including Hebrew. However, please keep in mind that my proficiency is limited to text-based conversations, and I may not be perfect in terms of grammar, vocabulary, or cultural nuances. But I'm happy to try and help with any Hebrew-related questions or topics you'd like to discuss. What brings you here today?\n",
      "{None}\n"
     ]
    }
   ],
   "source": [
    "user_input = input(\"Enter: \")\n",
    "config={\"configurable\": {\"thread_id\": \"1\"}}\n",
    "while user_input != \"exit\":\n",
    "    state= app.invoke({\"messages\": [HumanMessage(content=user_input)]} , config=config)\n",
    "    print({state[\"messages\"][-1].pretty_print()})\n",
    "    user_input = input(\"Enter: \")\n",
    "\n",
    "\n"
   ]
  }
 ],
 "metadata": {
  "kernelspec": {
   "display_name": ".venv",
   "language": "python",
   "name": "python3"
  },
  "language_info": {
   "codemirror_mode": {
    "name": "ipython",
    "version": 3
   },
   "file_extension": ".py",
   "mimetype": "text/x-python",
   "name": "python",
   "nbconvert_exporter": "python",
   "pygments_lexer": "ipython3",
   "version": "3.12.10"
  }
 },
 "nbformat": 4,
 "nbformat_minor": 5
}
