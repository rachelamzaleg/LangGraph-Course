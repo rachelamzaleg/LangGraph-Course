{
 "cells": [
  {
   "cell_type": "markdown",
   "id": "443e2ce6",
   "metadata": {},
   "source": [
    "Exercise for Graph II 🏆\n",
    "🏗Your task:\n",
    "## Create a Graph where you pass in a single list of integers along with a name and an\n",
    "operation. If the operation is a “+”, you add the elements and if it is a “*”, you\n",
    "multiply the elements, all within the same node.\n",
    "Input: {\"name\": \"Jack Sparrow\",\"values\": [1,2,3,4] , \"operation\": \"*\"}\n",
    "Output: \"Hi Jack Sparrow, your answer is: 24\" \n",
    "Hint: You need an if-statement in your node!"
   ]
  },
  {
   "cell_type": "code",
   "execution_count": 12,
   "id": "1bfcdd57",
   "metadata": {},
   "outputs": [],
   "source": [
    "from typing import TypedDict,List\n",
    "from langgraph.graph import StateGraph"
   ]
  },
  {
   "cell_type": "markdown",
   "id": "0462a54d",
   "metadata": {},
   "source": [
    "## build the AgentState Class for structured dict"
   ]
  },
  {
   "cell_type": "code",
   "execution_count": 13,
   "id": "df6bca1b",
   "metadata": {},
   "outputs": [],
   "source": [
    "class MyStateGraph(TypedDict):\n",
    "    values: List[int]\n",
    "    name: str\n",
    "    operation: str\n",
    "    result: str"
   ]
  },
  {
   "cell_type": "markdown",
   "id": "e2fe5a40",
   "metadata": {},
   "source": [
    "## build the function for the node"
   ]
  },
  {
   "cell_type": "code",
   "execution_count": 23,
   "id": "dabb5450",
   "metadata": {},
   "outputs": [],
   "source": [
    "def processor(math_operation: MyStateGraph) -> MyStateGraph:\n",
    "    \"\"\"Calculate math on the list of int values according to the operation and return a result\"\"\"\n",
    "    if math_operation[\"operation\"] == '+':\n",
    "        answer  = sum(math_operation[\"values\"])\n",
    "    elif math_operation[\"operation\"] == '*':\n",
    "        answer = 1\n",
    "        for v in math_operation[\"values\"]:\n",
    "            answer *= v\n",
    "    math_operation[\"result\"] = f'Hi {math_operation[\"name\"] }, your answer is : {answer}'\n",
    "    return math_operation\n"
   ]
  },
  {
   "cell_type": "markdown",
   "id": "06b8dc84",
   "metadata": {},
   "source": [
    "## Create the graph"
   ]
  },
  {
   "cell_type": "code",
   "execution_count": 24,
   "id": "c5bf78e0",
   "metadata": {},
   "outputs": [
    {
     "data": {
      "image/png": "[encoded data removed]",
      "text/plain": [
       "<langgraph.graph.state.CompiledStateGraph object at 0x000001C23417A7E0>"
      ]
     },
     "execution_count": 24,
     "metadata": {},
     "output_type": "execute_result"
    }
   ],
   "source": [
    "graph = StateGraph(MyStateGraph)\n",
    "\n",
    "graph.add_node(\"my_node_function\", processor)\n",
    "graph.set_entry_point(\"my_node_function\")\n",
    "graph.set_finish_point(\"my_node_function\")\n",
    "\n",
    "app = graph.compile()\n",
    "app"
   ]
  },
  {
   "cell_type": "markdown",
   "id": "fac6b105",
   "metadata": {},
   "source": [
    "## Invoke the app graph"
   ]
  },
  {
   "cell_type": "code",
   "execution_count": 26,
   "id": "0cb08ed7",
   "metadata": {},
   "outputs": [
    {
     "data": {
      "text/plain": [
       "'Hi Rachel, your answer is : 6'"
      ]
     },
     "execution_count": 26,
     "metadata": {},
     "output_type": "execute_result"
    }
   ],
   "source": [
    "app_results = app.invoke({\n",
    "    \"values\": [1, 2, 3],\n",
    "    \"name\": \"Rachel\",\n",
    "    \"operation\": \"+\",\n",
    "    \"result\": \"\"\n",
    "})\n",
    "app_results[\"result\"]"
   ]
  },
  {
   "cell_type": "code",
   "execution_count": 28,
   "id": "cf9b96e9",
   "metadata": {},
   "outputs": [
    {
     "data": {
      "text/plain": [
       "'Hi Rachel, your answer is : 60'"
      ]
     },
     "execution_count": 28,
     "metadata": {},
     "output_type": "execute_result"
    }
   ],
   "source": [
    "app_results = app.invoke({\n",
    "    \"values\": [10, 2, 3],\n",
    "    \"name\": \"Rachel\",\n",
    "    \"operation\": \"*\",\n",
    "    \"result\": \"\"\n",
    "})\n",
    "app_results[\"result\"]"
   ]
  }
 ],
 "metadata": {
  "kernelspec": {
   "display_name": ".venv (3.12.10)",
   "language": "python",
   "name": "python3"
  },
  "language_info": {
   "codemirror_mode": {
    "name": "ipython",
    "version": 3
   },
   "file_extension": ".py",
   "mimetype": "text/x-python",
   "name": "python",
   "nbconvert_exporter": "python",
   "pygments_lexer": "ipython3",
   "version": "3.12.10"
  }
 },
 "nbformat": 4,
 "nbformat_minor": 5
}
