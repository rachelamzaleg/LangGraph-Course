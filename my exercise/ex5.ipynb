{
 "cells": [
  {
   "cell_type": "markdown",
   "id": "4c2f021d",
   "metadata": {},
   "source": [
    "Exercise for Graph V 🗃\n",
    "Your task:\n",
    "Make the graph on the right! You need to implement an Automatic Higher or Lower\n",
    "Game.\n",
    "Set the bounds to between 1 to 20. The Graph has to keep guessing (max number of\n",
    "guesses is 7) where if the guess is correct, then it stops, but if not we keep looping until\n",
    "we hit the max limit of 7.\n",
    "Each time a number is guessed, the hint node should say higher or lower and the graph\n",
    "should account for this information and guess the next guess accordingly.\n",
    "Input: {\"player_name\": \"Student\", \"guesses\": [], \"attempts\": 0, \"lower_bound\": 1,\n",
    "\"upper_bound\": 20}\n",
    "Hint: It will need to adjust its bounds after every guess based on the hint provided by the hint node"
   ]
  },
  {
   "cell_type": "code",
   "execution_count": 3,
   "id": "d8e2f0b5",
   "metadata": {},
   "outputs": [],
   "source": [
    "from typing import TypedDict\n",
    "from langgraph.graph import StateGraph,START,END\n",
    "import random"
   ]
  },
  {
   "cell_type": "markdown",
   "id": "645bb7a1",
   "metadata": {},
   "source": [
    "## Create StateAgent Class"
   ]
  },
  {
   "cell_type": "code",
   "execution_count": null,
   "id": "6c560d7b",
   "metadata": {},
   "outputs": [],
   "source": [
    "class MystateAgent(TypedDict):\n",
    "    player_name: str\n",
    "    magic_number: int\n",
    "    guesses: List[int]\n",
    "    hint: str\n",
    "    attempts: int\n",
    "    lower_bound: int\n",
    "    upper_bound: int\n"
   ]
  },
  {
   "cell_type": "markdown",
   "id": "c25f77a0",
   "metadata": {},
   "source": [
    "## Create node function for greeting and initialize"
   ]
  },
  {
   "cell_type": "code",
   "execution_count": 5,
   "id": "faf09e5c",
   "metadata": {},
   "outputs": [],
   "source": [
    "def setup_node(state: MystateAgent) -> MystateAgent:\n",
    "    \"\"\" Greeting function and initialize\"\"\"\n",
    "\n",
    "    print(f'Hi {state[\"player_name\"]}, welcome to the Number Guessing Game!')\n",
    "    state['lower_bound'] = 1\n",
    "    state['upper_bound'] = 20\n",
    "    state['magic_number'] = random.randint(state['lower_bound'], state['upper_bound'])\n",
    "\n",
    "    state['guesses'] = []\n",
    "    state['attempts'] = 0\n",
    "\n",
    "    return state\n"
   ]
  },
  {
   "cell_type": "markdown",
   "id": "47c0fd42",
   "metadata": {},
   "source": [
    "## Create the Guess function node"
   ]
  },
  {
   "cell_type": "code",
   "execution_count": 56,
   "id": "a5f16ee3",
   "metadata": {},
   "outputs": [],
   "source": [
    "def guess_node(state: MystateAgent) -> MystateAgent:\n",
    "    \"\"\" get the next random guess \"\"\"\n",
    "\n",
    "    state['attempts'] += 1\n",
    "    guess = random.randint(state['lower_bound'], state['upper_bound'])\n",
    "    state['guesses'].append(guess)\n",
    "    \n",
    "    return state\n"
   ]
  },
  {
   "cell_type": "markdown",
   "id": "1ef78a6c",
   "metadata": {},
   "source": [
    "## Create the Hint function node"
   ]
  },
  {
   "cell_type": "code",
   "execution_count": 99,
   "id": "1d8d91ea",
   "metadata": {},
   "outputs": [],
   "source": [
    "def hint_node(state: MystateAgent) -> MystateAgent:\n",
    "    \"\"\" Provide a hint based on the player's previous guesses \"\"\"\n",
    "\n",
    "    last_guess = state['guesses'][-1]\n",
    "    if last_guess == state['magic_number']:\n",
    "        state['hint'] = \"Congratulations! You've guessed the magic number.\"\n",
    "    elif last_guess < state['magic_number']:\n",
    "        state['lower_bound'] = max(state['lower_bound'], last_guess + 1)\n",
    "        state['hint'] = f\"Try a higher number than {last_guess}.\"\n",
    "    elif last_guess > state['magic_number']:\n",
    "        state['upper_bound'] = min(state['upper_bound'], last_guess - 1)\n",
    "        state['hint'] = f\"Try a lower number than {last_guess}.\"\n",
    "    \n",
    "    print(state['hint'])\n",
    "    return state\n"
   ]
  },
  {
   "cell_type": "code",
   "execution_count": 104,
   "id": "f39ce18a",
   "metadata": {},
   "outputs": [],
   "source": [
    "def should_continue(state: MystateAgent) -> MystateAgent:\n",
    "    \"\"\" Determine if the game should continue based on the state \"\"\"\n",
    "    last_guess = state['guesses'][-1]\n",
    "    if last_guess == state['magic_number'] or state['attempts'] >= 7:\n",
    "        return 'end'\n",
    "    else:\n",
    "        return 'continue'\n",
    "    \n",
    "    \n"
   ]
  },
  {
   "cell_type": "markdown",
   "id": "1f8b1f0c",
   "metadata": {},
   "source": [
    "## Create the graph"
   ]
  },
  {
   "cell_type": "code",
   "execution_count": 105,
   "id": "d9298a5c",
   "metadata": {},
   "outputs": [
    {
     "data": {
      "image/png": "[encoded data removed]",
      "text/plain": [
       "<langgraph.graph.state.CompiledStateGraph object at 0x000002D0DA22EE70>"
      ]
     },
     "execution_count": 105,
     "metadata": {},
     "output_type": "execute_result"
    }
   ],
   "source": [
    "graph = StateGraph(MystateAgent)\n",
    "graph.add_node('setup_node', setup_node)\n",
    "graph.add_node('guess_node', guess_node)\n",
    "graph.add_node('hint_node', hint_node)\n",
    "\n",
    "graph.add_edge(START, 'setup_node')\n",
    "graph.add_edge('setup_node', 'guess_node')\n",
    "graph.add_edge('guess_node', 'hint_node')\n",
    "\n",
    "graph.add_conditional_edges('hint_node', #Source Node\n",
    "should_continue, #Action\n",
    "  {\n",
    "    'continue': 'guess_node',\n",
    "    'end': END\n",
    "})\n",
    "\n",
    "app=graph.compile()\n",
    "app"
   ]
  },
  {
   "cell_type": "markdown",
   "id": "453ff59c",
   "metadata": {},
   "source": [
    "## Invoke graph"
   ]
  },
  {
   "cell_type": "code",
   "execution_count": 112,
   "id": "98f0b554",
   "metadata": {},
   "outputs": [
    {
     "name": "stdout",
     "output_type": "stream",
     "text": [
      "Hi Student, welcome to the Number Guessing Game!\n",
      "Try a lower number than 10.\n",
      "Try a lower number than 6.\n",
      "Congratulations! You've guessed the magic number.\n"
     ]
    },
    {
     "data": {
      "text/plain": [
       "{'player_name': 'Student',\n",
       " 'magic_number': 4,\n",
       " 'guesses': [10, 6, 4],\n",
       " 'attempts': 3,\n",
       " 'lower_bound': 1,\n",
       " 'upper_bound': 5}"
      ]
     },
     "execution_count": 112,
     "metadata": {},
     "output_type": "execute_result"
    }
   ],
   "source": [
    "setup = MystateAgent(player_name=\"Student\", guesses=[], attempts=0, lower_bound=1, upper_bound=20)\n",
    "results = app.invoke(setup)\n",
    "results"
   ]
  }
 ],
 "metadata": {
  "kernelspec": {
   "display_name": ".venv",
   "language": "python",
   "name": "python3"
  },
  "language_info": {
   "codemirror_mode": {
    "name": "ipython",
    "version": 3
   },
   "file_extension": ".py",
   "mimetype": "text/x-python",
   "name": "python",
   "nbconvert_exporter": "python",
   "pygments_lexer": "ipython3",
   "version": "3.12.10"
  }
 },
 "nbformat": 4,
 "nbformat_minor": 5
}
